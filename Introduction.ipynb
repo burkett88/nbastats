{
 "cells": [
  {
   "cell_type": "code",
   "execution_count": 1,
   "metadata": {},
   "outputs": [
    {
     "name": "stdout",
     "output_type": "stream",
     "text": [
      "2016-17\n"
     ]
    }
   ],
   "source": [
    "from nba_py.constants import CURRENT_SEASON\n",
    "print(CURRENT_SEASON)"
   ]
  },
  {
   "cell_type": "code",
   "execution_count": 2,
   "metadata": {},
   "outputs": [
    {
     "name": "stdout",
     "output_type": "stream",
     "text": [
      "Populating the interactive namespace from numpy and matplotlib\n"
     ]
    }
   ],
   "source": [
    "%pylab inline \n",
    "#allows you to plot in jupyter notebook"
   ]
  },
  {
   "cell_type": "code",
   "execution_count": 3,
   "metadata": {
    "collapsed": true
   },
   "outputs": [],
   "source": [
    "import matplotlib.pyplot as plt\n",
    "plt.style.use('ggplot')"
   ]
  },
  {
   "cell_type": "code",
   "execution_count": 4,
   "metadata": {
    "collapsed": true
   },
   "outputs": [],
   "source": [
    "from nba_py import player"
   ]
  },
  {
   "cell_type": "markdown",
   "metadata": {},
   "source": [
    "## Search Player"
   ]
  },
  {
   "cell_type": "code",
   "execution_count": 5,
   "metadata": {
    "collapsed": true
   },
   "outputs": [],
   "source": [
    "playerid=player.get_player(first_name='Lebron', last_name='James')"
   ]
  },
  {
   "cell_type": "markdown",
   "metadata": {},
   "source": [
    "## Pick Season"
   ]
  },
  {
   "cell_type": "code",
   "execution_count": 6,
   "metadata": {
    "collapsed": true
   },
   "outputs": [],
   "source": [
    "season='2017-18'"
   ]
  },
  {
   "cell_type": "markdown",
   "metadata": {},
   "source": [
    "#### Name look up"
   ]
  },
  {
   "cell_type": "code",
   "execution_count": 7,
   "metadata": {
    "collapsed": true
   },
   "outputs": [],
   "source": [
    "name=player.PlayerSummary(playerid).info()['DISPLAY_FIRST_LAST'][0]"
   ]
  },
  {
   "cell_type": "markdown",
   "metadata": {},
   "source": [
    "#### team lookup"
   ]
  },
  {
   "cell_type": "code",
   "execution_count": 8,
   "metadata": {
    "collapsed": true
   },
   "outputs": [],
   "source": [
    "team_id=player.PlayerSummary(playerid).info()['TEAM_ID'][0]"
   ]
  },
  {
   "cell_type": "markdown",
   "metadata": {},
   "source": [
    "#### Set object pst equal to the player shot tracking module"
   ]
  },
  {
   "cell_type": "code",
   "execution_count": 9,
   "metadata": {
    "collapsed": true
   },
   "outputs": [],
   "source": [
    "pst=player.PlayerShotTracking(playerid, \n",
    "                          team_id=0, \n",
    "                          measure_type='Base', \n",
    "                          per_mode='PerGame', \n",
    "                          plus_minus='N', \n",
    "                          pace_adjust='N', \n",
    "                          rank='N', \n",
    "                          league_id='00', \n",
    "                          season=season, season_type='Regular Season',\n",
    "                          po_round='0', outcome='', location='', \n",
    "                          month='0', season_segment='', \n",
    "                          date_from='', date_to='', \n",
    "                          opponent_team_id='0', \n",
    "                          vs_conference='', vs_division='', \n",
    "                          game_segment='', period='0', \n",
    "                          shot_clock_range='', last_n_games='0')"
   ]
  },
  {
   "cell_type": "markdown",
   "metadata": {},
   "source": [
    "## Import team level stats for comparison, no need to enter team id if it's the same as the player"
   ]
  },
  {
   "cell_type": "code",
   "execution_count": 10,
   "metadata": {
    "collapsed": true
   },
   "outputs": [],
   "source": [
    "from nba_py import team\n",
    "tst=team.TeamShotTracking(team_id, season=season)"
   ]
  },
  {
   "cell_type": "code",
   "execution_count": 11,
   "metadata": {},
   "outputs": [
    {
     "data": {
      "text/html": [
       "<div>\n",
       "<style scoped>\n",
       "    .dataframe tbody tr th:only-of-type {\n",
       "        vertical-align: middle;\n",
       "    }\n",
       "\n",
       "    .dataframe tbody tr th {\n",
       "        vertical-align: top;\n",
       "    }\n",
       "\n",
       "    .dataframe thead th {\n",
       "        text-align: right;\n",
       "    }\n",
       "</style>\n",
       "<table border=\"1\" class=\"dataframe\">\n",
       "  <thead>\n",
       "    <tr style=\"text-align: right;\">\n",
       "      <th></th>\n",
       "      <th>TeamID</th>\n",
       "      <th>SEASON</th>\n",
       "      <th>LeagueID</th>\n",
       "      <th>PLAYER</th>\n",
       "      <th>NUM</th>\n",
       "      <th>POSITION</th>\n",
       "      <th>HEIGHT</th>\n",
       "      <th>WEIGHT</th>\n",
       "      <th>BIRTH_DATE</th>\n",
       "      <th>AGE</th>\n",
       "      <th>EXP</th>\n",
       "      <th>SCHOOL</th>\n",
       "      <th>PLAYER_ID</th>\n",
       "    </tr>\n",
       "  </thead>\n",
       "  <tbody>\n",
       "    <tr>\n",
       "      <th>0</th>\n",
       "      <td>1610612739</td>\n",
       "      <td>2016</td>\n",
       "      <td>00</td>\n",
       "      <td>Kevin Love</td>\n",
       "      <td>0</td>\n",
       "      <td>F</td>\n",
       "      <td>6-10</td>\n",
       "      <td>251</td>\n",
       "      <td>SEP 07, 1988</td>\n",
       "      <td>28.0</td>\n",
       "      <td>8</td>\n",
       "      <td>UCLA</td>\n",
       "      <td>201567</td>\n",
       "    </tr>\n",
       "    <tr>\n",
       "      <th>1</th>\n",
       "      <td>1610612739</td>\n",
       "      <td>2016</td>\n",
       "      <td>00</td>\n",
       "      <td>James Jones</td>\n",
       "      <td>1</td>\n",
       "      <td>G-F</td>\n",
       "      <td>6-8</td>\n",
       "      <td>218</td>\n",
       "      <td>OCT 04, 1980</td>\n",
       "      <td>36.0</td>\n",
       "      <td>13</td>\n",
       "      <td>Miami (FL)</td>\n",
       "      <td>2592</td>\n",
       "    </tr>\n",
       "    <tr>\n",
       "      <th>2</th>\n",
       "      <td>1610612739</td>\n",
       "      <td>2016</td>\n",
       "      <td>00</td>\n",
       "      <td>Kyrie Irving</td>\n",
       "      <td>2</td>\n",
       "      <td>G</td>\n",
       "      <td>6-3</td>\n",
       "      <td>193</td>\n",
       "      <td>MAR 23, 1992</td>\n",
       "      <td>25.0</td>\n",
       "      <td>5</td>\n",
       "      <td>Duke</td>\n",
       "      <td>202681</td>\n",
       "    </tr>\n",
       "    <tr>\n",
       "      <th>3</th>\n",
       "      <td>1610612739</td>\n",
       "      <td>2016</td>\n",
       "      <td>00</td>\n",
       "      <td>Derrick Williams</td>\n",
       "      <td>3</td>\n",
       "      <td>F</td>\n",
       "      <td>6-8</td>\n",
       "      <td>240</td>\n",
       "      <td>MAY 25, 1991</td>\n",
       "      <td>26.0</td>\n",
       "      <td>5</td>\n",
       "      <td>Arizona</td>\n",
       "      <td>202682</td>\n",
       "    </tr>\n",
       "    <tr>\n",
       "      <th>4</th>\n",
       "      <td>1610612739</td>\n",
       "      <td>2016</td>\n",
       "      <td>00</td>\n",
       "      <td>Iman Shumpert</td>\n",
       "      <td>4</td>\n",
       "      <td>G</td>\n",
       "      <td>6-5</td>\n",
       "      <td>220</td>\n",
       "      <td>JUN 26, 1990</td>\n",
       "      <td>27.0</td>\n",
       "      <td>5</td>\n",
       "      <td>Georgia Tech</td>\n",
       "      <td>202697</td>\n",
       "    </tr>\n",
       "    <tr>\n",
       "      <th>5</th>\n",
       "      <td>1610612739</td>\n",
       "      <td>2016</td>\n",
       "      <td>00</td>\n",
       "      <td>JR Smith</td>\n",
       "      <td>5</td>\n",
       "      <td>G</td>\n",
       "      <td>6-6</td>\n",
       "      <td>225</td>\n",
       "      <td>SEP 09, 1985</td>\n",
       "      <td>31.0</td>\n",
       "      <td>12</td>\n",
       "      <td>St. Benedict's Prep (NJ)</td>\n",
       "      <td>2747</td>\n",
       "    </tr>\n",
       "    <tr>\n",
       "      <th>6</th>\n",
       "      <td>1610612739</td>\n",
       "      <td>2016</td>\n",
       "      <td>00</td>\n",
       "      <td>Channing Frye</td>\n",
       "      <td>8</td>\n",
       "      <td>F</td>\n",
       "      <td>6-11</td>\n",
       "      <td>255</td>\n",
       "      <td>MAY 17, 1983</td>\n",
       "      <td>34.0</td>\n",
       "      <td>10</td>\n",
       "      <td>Arizona</td>\n",
       "      <td>101112</td>\n",
       "    </tr>\n",
       "    <tr>\n",
       "      <th>7</th>\n",
       "      <td>1610612739</td>\n",
       "      <td>2016</td>\n",
       "      <td>00</td>\n",
       "      <td>Tristan Thompson</td>\n",
       "      <td>13</td>\n",
       "      <td>C</td>\n",
       "      <td>6-9</td>\n",
       "      <td>238</td>\n",
       "      <td>MAR 13, 1991</td>\n",
       "      <td>26.0</td>\n",
       "      <td>5</td>\n",
       "      <td>Texas</td>\n",
       "      <td>202684</td>\n",
       "    </tr>\n",
       "    <tr>\n",
       "      <th>8</th>\n",
       "      <td>1610612739</td>\n",
       "      <td>2016</td>\n",
       "      <td>00</td>\n",
       "      <td>Kay Felder</td>\n",
       "      <td>20</td>\n",
       "      <td>G</td>\n",
       "      <td>5-9</td>\n",
       "      <td>176</td>\n",
       "      <td>MAR 29, 1995</td>\n",
       "      <td>22.0</td>\n",
       "      <td>R</td>\n",
       "      <td>Oakland</td>\n",
       "      <td>1627770</td>\n",
       "    </tr>\n",
       "    <tr>\n",
       "      <th>9</th>\n",
       "      <td>1610612739</td>\n",
       "      <td>2016</td>\n",
       "      <td>00</td>\n",
       "      <td>LeBron James</td>\n",
       "      <td>23</td>\n",
       "      <td>F</td>\n",
       "      <td>6-8</td>\n",
       "      <td>250</td>\n",
       "      <td>DEC 30, 1984</td>\n",
       "      <td>32.0</td>\n",
       "      <td>13</td>\n",
       "      <td>St. Vincent-St. Mary HS (OH)</td>\n",
       "      <td>2544</td>\n",
       "    </tr>\n",
       "    <tr>\n",
       "      <th>10</th>\n",
       "      <td>1610612739</td>\n",
       "      <td>2016</td>\n",
       "      <td>00</td>\n",
       "      <td>Richard Jefferson</td>\n",
       "      <td>24</td>\n",
       "      <td>F</td>\n",
       "      <td>6-7</td>\n",
       "      <td>233</td>\n",
       "      <td>JUN 21, 1980</td>\n",
       "      <td>37.0</td>\n",
       "      <td>15</td>\n",
       "      <td>Arizona</td>\n",
       "      <td>2210</td>\n",
       "    </tr>\n",
       "    <tr>\n",
       "      <th>11</th>\n",
       "      <td>1610612739</td>\n",
       "      <td>2016</td>\n",
       "      <td>00</td>\n",
       "      <td>Kyle Korver</td>\n",
       "      <td>26</td>\n",
       "      <td>G</td>\n",
       "      <td>6-7</td>\n",
       "      <td>212</td>\n",
       "      <td>MAR 17, 1981</td>\n",
       "      <td>36.0</td>\n",
       "      <td>13</td>\n",
       "      <td>Creighton</td>\n",
       "      <td>2594</td>\n",
       "    </tr>\n",
       "    <tr>\n",
       "      <th>12</th>\n",
       "      <td>1610612739</td>\n",
       "      <td>2016</td>\n",
       "      <td>00</td>\n",
       "      <td>Dahntay Jones</td>\n",
       "      <td>30</td>\n",
       "      <td>G-F</td>\n",
       "      <td>6-6</td>\n",
       "      <td>225</td>\n",
       "      <td>DEC 27, 1980</td>\n",
       "      <td>36.0</td>\n",
       "      <td>12</td>\n",
       "      <td>Duke</td>\n",
       "      <td>2563</td>\n",
       "    </tr>\n",
       "    <tr>\n",
       "      <th>13</th>\n",
       "      <td>1610612739</td>\n",
       "      <td>2016</td>\n",
       "      <td>00</td>\n",
       "      <td>Deron Williams</td>\n",
       "      <td>31</td>\n",
       "      <td>G</td>\n",
       "      <td>6-3</td>\n",
       "      <td>200</td>\n",
       "      <td>JUN 26, 1984</td>\n",
       "      <td>33.0</td>\n",
       "      <td>11</td>\n",
       "      <td>Illinois</td>\n",
       "      <td>101114</td>\n",
       "    </tr>\n",
       "    <tr>\n",
       "      <th>14</th>\n",
       "      <td>1610612739</td>\n",
       "      <td>2016</td>\n",
       "      <td>00</td>\n",
       "      <td>Edy Tavares</td>\n",
       "      <td>40</td>\n",
       "      <td>C</td>\n",
       "      <td>7-3</td>\n",
       "      <td>265</td>\n",
       "      <td>MAR 22, 1992</td>\n",
       "      <td>25.0</td>\n",
       "      <td>1</td>\n",
       "      <td>None</td>\n",
       "      <td>204002</td>\n",
       "    </tr>\n",
       "  </tbody>\n",
       "</table>\n",
       "</div>"
      ],
      "text/plain": [
       "        TeamID SEASON LeagueID             PLAYER NUM POSITION HEIGHT WEIGHT  \\\n",
       "0   1610612739   2016       00         Kevin Love   0        F   6-10    251   \n",
       "1   1610612739   2016       00        James Jones   1      G-F    6-8    218   \n",
       "2   1610612739   2016       00       Kyrie Irving   2        G    6-3    193   \n",
       "3   1610612739   2016       00   Derrick Williams   3        F    6-8    240   \n",
       "4   1610612739   2016       00      Iman Shumpert   4        G    6-5    220   \n",
       "5   1610612739   2016       00           JR Smith   5        G    6-6    225   \n",
       "6   1610612739   2016       00      Channing Frye   8        F   6-11    255   \n",
       "7   1610612739   2016       00   Tristan Thompson  13        C    6-9    238   \n",
       "8   1610612739   2016       00         Kay Felder  20        G    5-9    176   \n",
       "9   1610612739   2016       00       LeBron James  23        F    6-8    250   \n",
       "10  1610612739   2016       00  Richard Jefferson  24        F    6-7    233   \n",
       "11  1610612739   2016       00        Kyle Korver  26        G    6-7    212   \n",
       "12  1610612739   2016       00      Dahntay Jones  30      G-F    6-6    225   \n",
       "13  1610612739   2016       00     Deron Williams  31        G    6-3    200   \n",
       "14  1610612739   2016       00        Edy Tavares  40        C    7-3    265   \n",
       "\n",
       "      BIRTH_DATE   AGE EXP                        SCHOOL  PLAYER_ID  \n",
       "0   SEP 07, 1988  28.0   8                          UCLA     201567  \n",
       "1   OCT 04, 1980  36.0  13                    Miami (FL)       2592  \n",
       "2   MAR 23, 1992  25.0   5                          Duke     202681  \n",
       "3   MAY 25, 1991  26.0   5                       Arizona     202682  \n",
       "4   JUN 26, 1990  27.0   5                  Georgia Tech     202697  \n",
       "5   SEP 09, 1985  31.0  12      St. Benedict's Prep (NJ)       2747  \n",
       "6   MAY 17, 1983  34.0  10                       Arizona     101112  \n",
       "7   MAR 13, 1991  26.0   5                         Texas     202684  \n",
       "8   MAR 29, 1995  22.0   R                       Oakland    1627770  \n",
       "9   DEC 30, 1984  32.0  13  St. Vincent-St. Mary HS (OH)       2544  \n",
       "10  JUN 21, 1980  37.0  15                       Arizona       2210  \n",
       "11  MAR 17, 1981  36.0  13                     Creighton       2594  \n",
       "12  DEC 27, 1980  36.0  12                          Duke       2563  \n",
       "13  JUN 26, 1984  33.0  11                      Illinois     101114  \n",
       "14  MAR 22, 1992  25.0   1                          None     204002  "
      ]
     },
     "execution_count": 11,
     "metadata": {},
     "output_type": "execute_result"
    }
   ],
   "source": [
    "team.TeamCommonRoster(team_id).roster()"
   ]
  },
  {
   "cell_type": "markdown",
   "metadata": {},
   "source": [
    "#### Shots by Type"
   ]
  },
  {
   "cell_type": "code",
   "execution_count": 12,
   "metadata": {
    "collapsed": true
   },
   "outputs": [],
   "source": [
    "ShotsByType=pst.general_shooting().set_index('SHOT_TYPE')\n",
    "ShotsByTime=pst.touch_time_shooting().set_index('TOUCH_TIME_RANGE')\n",
    "ShotsByDefense=pst.closest_defender_shooting().set_index('CLOSE_DEF_DIST_RANGE')"
   ]
  },
  {
   "cell_type": "code",
   "execution_count": 13,
   "metadata": {
    "collapsed": true
   },
   "outputs": [],
   "source": [
    "#ShotsByTypeTeam=tst.general_shooting().set_index('SHOT_TYPE')\n",
    "ShotsByTimeTeam=tst.touch_time_shooting().set_index('TOUCH_TIME_RANGE')\n",
    "ShotsByDefenseTeam=tst.closest_defender_shooting().set_index('CLOSE_DEF_DIST_RANGE')"
   ]
  },
  {
   "cell_type": "code",
   "execution_count": 14,
   "metadata": {
    "scrolled": true
   },
   "outputs": [
    {
     "data": {
      "text/plain": [
       "<matplotlib.axes._subplots.AxesSubplot at 0x114ab0da0>"
      ]
     },
     "execution_count": 14,
     "metadata": {},
     "output_type": "execute_result"
    },
    {
     "data": {
      "image/png": "[encoded data removed]",
      "text/plain": [
       "<matplotlib.figure.Figure at 0x114b985c0>"
      ]
     },
     "metadata": {},
     "output_type": "display_data"
    }
   ],
   "source": [
    "plt.suptitle(name + ', ' + season)\n",
    "plt.subplot(121)\n",
    "ShotsByType['FGA'].plot(kind='bar', figsize=(10,5),  title='FGA per Game by Shot Type')\n",
    "plt.subplot(122)\n",
    "(ShotsByType['FG_PCT']*100).plot(kind='bar', figsize=(10,5), title='FG PCT by Shot Type')"
   ]
  },
  {
   "cell_type": "code",
   "execution_count": 15,
   "metadata": {},
   "outputs": [
    {
     "data": {
      "text/plain": [
       "<matplotlib.axes._subplots.AxesSubplot at 0x11a01ee80>"
      ]
     },
     "execution_count": 15,
     "metadata": {},
     "output_type": "execute_result"
    },
    {
     "data": {
      "image/png": "[encoded data removed]",
      "text/plain": [
       "<matplotlib.figure.Figure at 0x1141695f8>"
      ]
     },
     "metadata": {},
     "output_type": "display_data"
    }
   ],
   "source": [
    "plt.subplot(221)\n",
    "ShotsByTime['FGA'].plot(kind='bar', figsize=(10,5),  title='FGA by Time Touched:' + name )\n",
    "plt.subplot(222)\n",
    "ShotsByTime['FG_PCT'].plot(kind='bar', figsize=(10,5), title='FG PCT by Time Touched:' + name )\n",
    "plt.subplot(223)\n",
    "ShotsByTimeTeam['FGA'].plot(kind='bar', figsize=(10,5),  title='Team FGA by Time Touched' )\n",
    "plt.subplot(224)\n",
    "ShotsByTimeTeam['FG_PCT'].plot(kind='bar', figsize=(10,5), title='Team FG PCT by Time Touched' )"
   ]
  },
  {
   "cell_type": "code",
   "execution_count": 16,
   "metadata": {},
   "outputs": [
    {
     "data": {
      "text/plain": [
       "<matplotlib.axes._subplots.AxesSubplot at 0x11a1b6860>"
      ]
     },
     "execution_count": 16,
     "metadata": {},
     "output_type": "execute_result"
    },
    {
     "data": {
      "image/png": "[encoded data removed]",
      "text/plain": [
       "<matplotlib.figure.Figure at 0x114b557f0>"
      ]
     },
     "metadata": {},
     "output_type": "display_data"
    }
   ],
   "source": [
    "ShotsByTime=tst.touch_time_shooting().set_index('TOUCH_TIME_RANGE')\n",
    "plt.subplot(121)\n",
    "ShotsByTime['FGA'].plot(kind='bar', figsize=(10,5),  title='FGA by Time Touched' )\n",
    "plt.subplot(122)\n",
    "ShotsByTime['FG_PCT'].plot(kind='bar', figsize=(10,5), title='FG PCT by Time Touched' )"
   ]
  },
  {
   "cell_type": "code",
   "execution_count": 17,
   "metadata": {},
   "outputs": [
    {
     "data": {
      "text/plain": [
       "<matplotlib.axes._subplots.AxesSubplot at 0x11a4dfac8>"
      ]
     },
     "execution_count": 17,
     "metadata": {},
     "output_type": "execute_result"
    },
    {
     "data": {
      "image/png": "[encoded data removed]",
      "text/plain": [
       "<matplotlib.figure.Figure at 0x11a1465f8>"
      ]
     },
     "metadata": {},
     "output_type": "display_data"
    }
   ],
   "source": [
    "plt.subplot(121)\n",
    "ShotsByDefense['FGA'].plot(kind='bar', figsize=(10,5),  title='FGA by Defender Dist:' + name )\n",
    "plt.subplot(122)\n",
    "ShotsByDefense['FG_PCT'].plot(kind='bar', figsize=(10,5), title='FG_PCT by Defender Dist:' + name )"
   ]
  },
  {
   "cell_type": "code",
   "execution_count": null,
   "metadata": {
    "collapsed": true
   },
   "outputs": [],
   "source": []
  }
 ],
 "metadata": {
  "kernelspec": {
   "display_name": "Python 3",
   "language": "python",
   "name": "python3"
  },
  "language_info": {
   "codemirror_mode": {
    "name": "ipython",
    "version": 3
   },
   "file_extension": ".py",
   "mimetype": "text/x-python",
   "name": "python",
   "nbconvert_exporter": "python",
   "pygments_lexer": "ipython3",
   "version": "3.6.0"
  }
 },
 "nbformat": 4,
 "nbformat_minor": 2
}
